{
  "nbformat": 4,
  "nbformat_minor": 0,
  "metadata": {
    "colab": {
      "provenance": []
    },
    "kernelspec": {
      "name": "python3",
      "display_name": "Python 3"
    },
    "language_info": {
      "name": "python"
    }
  },
  "cells": [
    {
      "cell_type": "code",
      "execution_count": 1,
      "metadata": {
        "id": "gkEnJu00V4vg"
      },
      "outputs": [],
      "source": [
        "import numpy as np\n",
        "random_seed = 1729\n",
        "np.random.seed(random_seed)\n",
        "N = 40\n",
        "x = np.random.rand(N)\n",
        "y = np.random.rand(N)"
      ]
    },
    {
      "cell_type": "code",
      "source": [
        "points = zip(x,y)\n",
        "cities = list(points)"
      ],
      "metadata": {
        "id": "IiEn4KGcWcTy"
      },
      "execution_count": 6,
      "outputs": []
    },
    {
      "cell_type": "code",
      "source": [
        "itinerary = list(range(0,N))"
      ],
      "metadata": {
        "id": "jwSNv9vcW3wM"
      },
      "execution_count": 10,
      "outputs": []
    },
    {
      "cell_type": "code",
      "source": [
        "cities[0]"
      ],
      "metadata": {
        "colab": {
          "base_uri": "https://localhost:8080/"
        },
        "id": "dsnGsBfTXaiL",
        "outputId": "43387fc1-6303-4522-d1cc-5ead9ff28e67"
      },
      "execution_count": 11,
      "outputs": [
        {
          "output_type": "execute_result",
          "data": {
            "text/plain": [
              "(0.21215859519373315, 0.1421890509660515)"
            ]
          },
          "metadata": {},
          "execution_count": 11
        }
      ]
    },
    {
      "cell_type": "code",
      "source": [
        "cities[itinerary[0]]"
      ],
      "metadata": {
        "colab": {
          "base_uri": "https://localhost:8080/"
        },
        "id": "A98nJQqnYUmg",
        "outputId": "bc8abc5b-9723-47ec-971b-8a734530d605"
      },
      "execution_count": 12,
      "outputs": [
        {
          "output_type": "execute_result",
          "data": {
            "text/plain": [
              "(0.21215859519373315, 0.1421890509660515)"
            ]
          },
          "metadata": {},
          "execution_count": 12
        }
      ]
    },
    {
      "cell_type": "code",
      "source": [
        "def genlines(cities,itinerary):\n",
        "  lines = []\n",
        "  for j in range(0,len(itinerary) - 1):\n",
        "    lines.append([cities[itinerary[j]],cities[itinerary[j + 1]]])\n",
        "  return(lines)"
      ],
      "metadata": {
        "id": "qD41LMHqYfLl"
      },
      "execution_count": 18,
      "outputs": []
    },
    {
      "cell_type": "code",
      "source": [
        "import math\n",
        "def howfar(lines):\n",
        "  distance = 0\n",
        "  for j in range(0,len(lines)):\n",
        "    distance += math.sqrt(abs(lines[j][1][0] - lines[j][0][0])**2 + \\\n",
        "    abs(lines[j][1][1] - lines[j][0][1])**2)\n",
        "  return(distance)"
      ],
      "metadata": {
        "id": "fp0TKAiwZvzM"
      },
      "execution_count": 22,
      "outputs": []
    },
    {
      "cell_type": "code",
      "source": [
        "howfar(genlines(cities, itinerary))"
      ],
      "metadata": {
        "colab": {
          "base_uri": "https://localhost:8080/"
        },
        "id": "dr8VOlWwZ89B",
        "outputId": "0cd1b939-664c-4000-f3a9-02b3aab8d1b4"
      },
      "execution_count": 26,
      "outputs": [
        {
          "output_type": "execute_result",
          "data": {
            "text/plain": [
              "16.808756356994223"
            ]
          },
          "metadata": {},
          "execution_count": 26
        }
      ]
    },
    {
      "cell_type": "code",
      "source": [
        "import matplotlib.collections as mc\n",
        "import matplotlib.pylab as pl\n",
        "def plotitinerary(cities,itin,plottitle,thename):\n",
        "  lc = mc.LineCollection(genlines(cities,itin), linewidths=2)\n",
        "  fig, ax = pl.subplots()\n",
        "  ax.add_collection(lc)\n",
        "  ax.autoscale()\n",
        "  ax.margins(0.1)\n",
        "  pl.scatter(x, y)\n",
        "  pl.title(plottitle)\n",
        "  pl.xlabel('X Coordinate')\n",
        "  pl.ylabel('Y Coordinate')\n",
        "  pl.savefig(str(thename) + '.png')\n",
        "  pl.close()"
      ],
      "metadata": {
        "id": "ql3nRpIObV1j"
      },
      "execution_count": 27,
      "outputs": []
    },
    {
      "cell_type": "code",
      "source": [
        "plotitinerary(cities, itinerary,'Green Penguins','skipper')"
      ],
      "metadata": {
        "id": "tWLaj2gzcB-G"
      },
      "execution_count": 28,
      "outputs": []
    },
    {
      "cell_type": "code",
      "source": [
        "point = [0.5,0.5]\n",
        "j = 10\n",
        "distance = math.sqrt((point[0] - cities[j][0])**2 + (point[1] - cities[j][1])**2)"
      ],
      "metadata": {
        "id": "sGMkNuylc9H0"
      },
      "execution_count": 29,
      "outputs": []
    },
    {
      "cell_type": "code",
      "source": [
        "distance"
      ],
      "metadata": {
        "colab": {
          "base_uri": "https://localhost:8080/"
        },
        "id": "rlMv1Trle87_",
        "outputId": "a4748d8a-0070-47e3-bdf1-ff6b18aeea18"
      },
      "execution_count": 30,
      "outputs": [
        {
          "output_type": "execute_result",
          "data": {
            "text/plain": [
              "0.49696711378033537"
            ]
          },
          "metadata": {},
          "execution_count": 30
        }
      ]
    },
    {
      "cell_type": "code",
      "source": [
        "def findnearest(cities,idx,nnitinerary):\n",
        "  point = cities[idx]\n",
        "  mindistance = float('inf')\n",
        "  minidx = - 1\n",
        "  for j in range(0,len(cities)):\n",
        "    distance = math.sqrt((point[0] - cities[j][0])**2 + (point[1] - cities[j][1])**2)\n",
        "    if distance < mindistance and distance > 0 and j not in nnitinerary:\n",
        "      mindistance = distance\n",
        "      minidx = j\n",
        "  return(minidx)"
      ],
      "metadata": {
        "id": "TNnbWAlUfAJG"
      },
      "execution_count": 36,
      "outputs": []
    },
    {
      "cell_type": "code",
      "source": [
        "nnitinerary = [0]\n",
        "def donn(cities,N):\n",
        "  nnitinerary = [0]\n",
        "  for j in range(0,N - 1):\n",
        "    next = findnearest(cities,nnitinerary[len(nnitinerary) - 1],nnitinerary)\n",
        "    nnitinerary.append(next)\n",
        "  return(nnitinerary)"
      ],
      "metadata": {
        "id": "DtlaLOzbfO2s"
      },
      "execution_count": 37,
      "outputs": []
    },
    {
      "cell_type": "code",
      "source": [
        "plotitinerary(cities,donn(cities,N),'Chicago','owen')"
      ],
      "metadata": {
        "id": "-j1ot53Vf87k"
      },
      "execution_count": 38,
      "outputs": []
    },
    {
      "cell_type": "code",
      "source": [],
      "metadata": {
        "id": "F8ofFwJZg3XC"
      },
      "execution_count": null,
      "outputs": []
    }
  ]
}